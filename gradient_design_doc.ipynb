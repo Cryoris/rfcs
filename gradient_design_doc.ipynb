{
 "cells": [
  {
   "cell_type": "markdown",
   "metadata": {},
   "source": [
    "# Gradient Design Doc"
   ]
  },
  {
   "cell_type": "markdown",
   "metadata": {},
   "source": [
    "## Introduction"
   ]
  },
  {
   "cell_type": "markdown",
   "metadata": {},
   "source": [
    "### Why do we need gradient facilities?\n",
    "\n",
    "A multitude of efficient optimizers require the gradient of the loss function to find a optimum. \n",
    "Since the functions can be evaluated via Qiskit and we want to use these efficient optimizers we need gradient facilities. Gradients we want to compute include\n",
    "* the gradient of a parameterized expectation value: $\\langle \\psi(\\theta) | \\hat O | \\psi(\\theta) \\rangle$\n",
    "* the gradient of the probability to measure state $|i\\rangle$: $\\langle \\psi(\\theta) | i \\rangle \\langle i | \\psi(\\theta) \\rangle = |\\langle i | \\psi(\\theta) \\rangle|^2$\n",
    "* the gradient of an arbitrary loss function $\\ell(\\theta)$, provided with the required extra information <font color='blue'>todo: explain below</font>"
   ]
  },
  {
   "cell_type": "markdown",
   "metadata": {},
   "source": [
    "### What's wrong with the status quo?\n",
    "\n",
    "1. The computation of gradients in implemented within the `Optimizer` class.\n",
    "* currently only FD, missing analytic gradients\n",
    "* FD gradients implemented within Optimizers, no general access, missing possibilities to adapt gradient and use independently of the Optimizer\n",
    "* inexistent structure to host any existing gradient methods (exists since a long time for other frameworks! -> Xanadu)"
   ]
  },
  {
   "cell_type": "markdown",
   "metadata": {},
   "source": [
    "What do we need?\n",
    "\n",
    "* need modular and extensible framework, because many methods exist and new arise\n",
    "* gradient interface that can fed to Qiskit optimizers\n",
    "* handle metric tensors [ref papers]\n",
    "* methods to disect ansätze to setup gradients (possibly gradient-type specific) [ref papers]\n",
    "* expectation value gradients and loss function gradient (which could be based on a probability gradient)\n",
    "* compatibility with existing classical ML packages (e.g. pytorch)"
   ]
  },
  {
   "cell_type": "markdown",
   "metadata": {},
   "source": [
    "What methods exist?\n",
    "\n",
    "* FD\n",
    "* analytic pi half\n",
    "* analytic ancilla\n",
    "* natural "
   ]
  },
  {
   "cell_type": "markdown",
   "metadata": {},
   "source": [
    "How could we implement this?\n",
    "\n",
    "* how to combine gradient comp. methods with gradients we actually use?\n",
    "* in detail: how to do loss function gradient\n",
    "* how to do compatibility?\n",
    "* interface for gradient for consistency"
   ]
  },
  {
   "cell_type": "code",
   "execution_count": 1,
   "metadata": {},
   "outputs": [],
   "source": [
    "import numpy as np"
   ]
  },
  {
   "cell_type": "code",
   "execution_count": 2,
   "metadata": {},
   "outputs": [
    {
     "name": "stdout",
     "output_type": "stream",
     "text": [
      "[[0, 1], [1, 2], [2, 3], [3, 4], [4, 0]]\n"
     ]
    }
   ],
   "source": [
    "num_qubits = 5\n",
    "entangler_map = []\n",
    "if np.sum(num_qubits) > 2:\n",
    "    for i in range(int(np.sum(num_qubits))):\n",
    "        entangler_map.append([i, int(np.mod(i + 1, np.sum(num_qubits)))])\n",
    "else:\n",
    "    if np.sum(num_qubits) > 1:\n",
    "        entangler_map.append([0, 1])\n",
    "            \n",
    "print(entangler_map)"
   ]
  },
  {
   "cell_type": "markdown",
   "metadata": {},
   "source": []
  },
  {
   "cell_type": "markdown",
   "metadata": {},
   "source": []
  },
  {
   "cell_type": "markdown",
   "metadata": {},
   "source": []
  },
  {
   "cell_type": "markdown",
   "metadata": {},
   "source": []
  },
  {
   "cell_type": "markdown",
   "metadata": {},
   "source": []
  },
  {
   "cell_type": "markdown",
   "metadata": {},
   "source": []
  },
  {
   "cell_type": "markdown",
   "metadata": {},
   "source": []
  },
  {
   "cell_type": "markdown",
   "metadata": {},
   "source": []
  },
  {
   "cell_type": "markdown",
   "metadata": {},
   "source": []
  },
  {
   "cell_type": "markdown",
   "metadata": {},
   "source": []
  },
  {
   "cell_type": "markdown",
   "metadata": {},
   "source": []
  },
  {
   "cell_type": "markdown",
   "metadata": {},
   "source": []
  },
  {
   "cell_type": "markdown",
   "metadata": {},
   "source": []
  },
  {
   "cell_type": "markdown",
   "metadata": {},
   "source": []
  },
  {
   "cell_type": "markdown",
   "metadata": {},
   "source": []
  },
  {
   "cell_type": "code",
   "execution_count": null,
   "metadata": {},
   "outputs": [],
   "source": []
  }
 ],
 "metadata": {
  "kernelspec": {
   "display_name": "latest",
   "language": "python",
   "name": "latest"
  },
  "language_info": {
   "codemirror_mode": {
    "name": "ipython",
    "version": 3
   },
   "file_extension": ".py",
   "mimetype": "text/x-python",
   "name": "python",
   "nbconvert_exporter": "python",
   "pygments_lexer": "ipython3",
   "version": "3.7.5"
  }
 },
 "nbformat": 4,
 "nbformat_minor": 2
}
